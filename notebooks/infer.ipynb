{
 "cells": [
  {
   "cell_type": "code",
   "execution_count": 7,
   "metadata": {},
   "outputs": [
    {
     "data": {
      "text/plain": [
       "''"
      ]
     },
     "execution_count": 7,
     "metadata": {},
     "output_type": "execute_result"
    }
   ],
   "source": [
    "# change kernel path\n",
    "import os\n",
    "os.chdir('/data1/wangding/project/undefined/lightning-hydra-template/')\n",
    "os.curdir"
   ]
  },
  {
   "cell_type": "code",
   "execution_count": 2,
   "metadata": {},
   "outputs": [],
   "source": [
    "import pytorch_lightning as pl"
   ]
  },
  {
   "cell_type": "code",
   "execution_count": 4,
   "metadata": {},
   "outputs": [
    {
     "data": {
      "text/plain": [
       "UNetShuffleLitModel(\n",
       "  (conv_in): Conv2d(3, 16, kernel_size=(3, 3), stride=(1, 1), padding=(1, 1))\n",
       "  (down1): PixelUnshuffle(downscale_factor=2)\n",
       "  (conv1): Conv2d(64, 64, kernel_size=(3, 3), stride=(1, 1), padding=(1, 1))\n",
       "  (down2): PixelUnshuffle(downscale_factor=2)\n",
       "  (conv2): Conv2d(256, 256, kernel_size=(3, 3), stride=(1, 1), padding=(1, 1))\n",
       "  (down3): PixelUnshuffle(downscale_factor=2)\n",
       "  (conv3): Conv2d(1024, 1024, kernel_size=(3, 3), stride=(1, 1), padding=(1, 1))\n",
       "  (down4): PixelUnshuffle(downscale_factor=2)\n",
       "  (conv4): Conv2d(4096, 4096, kernel_size=(3, 3), stride=(1, 1), padding=(1, 1))\n",
       "  (up1): PixelShuffle(upscale_factor=2)\n",
       "  (up2): PixelShuffle(upscale_factor=2)\n",
       "  (up3): PixelShuffle(upscale_factor=2)\n",
       "  (up4): PixelShuffle(upscale_factor=2)\n",
       "  (conv_out): Conv2d(16, 3, kernel_size=(3, 3), stride=(1, 1), padding=(1, 1))\n",
       "  (loss): MSELoss()\n",
       ")"
      ]
     },
     "execution_count": 4,
     "metadata": {},
     "output_type": "execute_result"
    }
   ],
   "source": [
    "from src.models.unet_shuffle_model import UNetShuffleLitModel\n",
    "eval('UNetShuffleLitModel').load_from_checkpoint('/data1/wangding/project/image')"
   ]
  },
  {
   "cell_type": "code",
   "execution_count": null,
   "metadata": {},
   "outputs": [],
   "source": []
  }
 ],
 "metadata": {
  "kernelspec": {
   "display_name": "Python 3",
   "language": "python",
   "name": "python3"
  },
  "language_info": {
   "codemirror_mode": {
    "name": "ipython",
    "version": 3
   },
   "file_extension": ".py",
   "mimetype": "text/x-python",
   "name": "python",
   "nbconvert_exporter": "python",
   "pygments_lexer": "ipython3",
   "version": "3.8.12"
  }
 },
 "nbformat": 4,
 "nbformat_minor": 4
}
