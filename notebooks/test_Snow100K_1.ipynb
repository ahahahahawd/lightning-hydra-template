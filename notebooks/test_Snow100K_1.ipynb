{
 "cells": [
  {
   "cell_type": "code",
   "execution_count": null,
   "metadata": {},
   "outputs": [],
   "source": [
    "# change kernel path\n",
    "import os\n",
    "os.chdir('/data1/wangding/project/undefined/lightning-hydra-template/')\n",
    "os.curdir"
   ]
  },
  {
   "cell_type": "code",
   "execution_count": 1,
   "metadata": {
    "tags": []
   },
   "outputs": [
    {
     "ename": "NameError",
     "evalue": "name 'UNetResRD' is not defined",
     "output_type": "error",
     "traceback": [
      "\u001b[0;31m---------------------------------------------------------------------------\u001b[0m",
      "\u001b[0;31mNameError\u001b[0m                                 Traceback (most recent call last)",
      "\u001b[0;32m<ipython-input-1-830ef3565373>\u001b[0m in \u001b[0;36m<module>\u001b[0;34m\u001b[0m\n\u001b[1;32m     18\u001b[0m \u001b[0;34m\u001b[0m\u001b[0m\n\u001b[1;32m     19\u001b[0m \u001b[0;31m# model\u001b[0m\u001b[0;34m\u001b[0m\u001b[0;34m\u001b[0m\u001b[0;34m\u001b[0m\u001b[0m\n\u001b[0;32m---> 20\u001b[0;31m \u001b[0mmodel\u001b[0m \u001b[0;34m=\u001b[0m \u001b[0mUNetResRD\u001b[0m\u001b[0;34m.\u001b[0m\u001b[0mload_from_checkpoint\u001b[0m\u001b[0;34m(\u001b[0m\u001b[0mweight\u001b[0m\u001b[0;34m)\u001b[0m\u001b[0;34m\u001b[0m\u001b[0;34m\u001b[0m\u001b[0m\n\u001b[0m\u001b[1;32m     21\u001b[0m \u001b[0mmodel\u001b[0m\u001b[0;34m.\u001b[0m\u001b[0mcuda\u001b[0m\u001b[0;34m(\u001b[0m\u001b[0mdevice\u001b[0m\u001b[0;34m)\u001b[0m\u001b[0;34m.\u001b[0m\u001b[0mfreeze\u001b[0m\u001b[0;34m(\u001b[0m\u001b[0;34m)\u001b[0m\u001b[0;34m\u001b[0m\u001b[0;34m\u001b[0m\u001b[0m\n\u001b[1;32m     22\u001b[0m \u001b[0;34m\u001b[0m\u001b[0m\n",
      "\u001b[0;31mNameError\u001b[0m: name 'UNetResRD' is not defined"
     ]
    }
   ],
   "source": [
    "import os\n",
    "import time\n",
    "from argparse import ArgumentParser\n",
    "from pprint import pprint\n",
    "from tqdm import tqdm\n",
    "\n",
    "import torch\n",
    "from torch import nn\n",
    "\n",
    "from torchmetrics.functional import psnr, ssim, mean_squared_error\n",
    "\n",
    "from src.datamodules.snow_dm import PairedSnowDataModule\n",
    "from src.model.ablation import BranchBD\n",
    "\n",
    "device = 4\n",
    "batch_size = 1\n",
    "weight = 'logs/all_UNetResRD_bs32_ablation/desnow-epoch=0261-valid_loss=0.074254.ckpt'\n",
    "\n",
    "# model\n",
    "model = UNetResRD.load_from_checkpoint(weight)\n",
    "model.cuda(device).freeze()\n",
    "\n",
    "l1_loss = nn.L1Loss()\n",
    "\n",
    "for data_dir in ['S','M','L']:\n",
    "    # data module\n",
    "    dm = SnowDataModule(\n",
    "        batch_size=batch_size,\n",
    "        data_dir=data_dir,\n",
    "    )\n",
    "    dm.setup('test')\n",
    "    test_dt_len = len(dm.test_dt)\n",
    "\n",
    "    # test metric and pic\n",
    "    mse_list = []\n",
    "    l1_list = []\n",
    "    psnr_list = []\n",
    "    ssim_list = []\n",
    "\n",
    "    with torch.no_grad():\n",
    "        for i in tqdm(range(test_dt_len)):\n",
    "            s, g, m = dm.test_dt[i]\n",
    "            s, g, m = s.cuda(device).unsqueeze(0), g.cuda(device).unsqueeze(0), m.cuda(device).unsqueeze(0)\n",
    "\n",
    "            d = model(s)\n",
    "            d = torch.clamp(d, 0, 1)\n",
    "\n",
    "            mse_list.append(mean_squared_error(d, g).item())\n",
    "            l1_list.append(l1_loss(d, g).item())\n",
    "            psnr_list.append(psnr(d, g).item())\n",
    "            ssim_list.append(ssim(d, g).item())\n",
    "\n",
    "    mean_mse = sum(mse_list) / test_dt_len\n",
    "    mean_l1 = sum(l1_list) / test_dt_len\n",
    "    mean_psnr = sum(psnr_list) / test_dt_len\n",
    "    mean_ssim = sum(ssim_list) / test_dt_len\n",
    "\n",
    "    result = {\n",
    "        'mean_mse': mean_mse,\n",
    "        'mean_l1': mean_l1,\n",
    "        'mean_psnr': mean_psnr,\n",
    "        'mean_ssim': mean_ssim,\n",
    "    }\n",
    "    \n",
    "    print('test dataset: {}'.format(data_dir))\n",
    "    pprint(result)"
   ]
  },
  {
   "cell_type": "code",
   "execution_count": null,
   "metadata": {},
   "outputs": [],
   "source": []
  },
  {
   "cell_type": "code",
   "execution_count": null,
   "metadata": {},
   "outputs": [],
   "source": []
  }
 ],
 "metadata": {
  "interpreter": {
   "hash": "72698f8c156eb56f63023cfc364b5bb46cfa63cb6d8aab0b0b201108f958c8d2"
  },
  "kernelspec": {
   "display_name": "Python 3",
   "language": "python",
   "name": "python3"
  },
  "language_info": {
   "codemirror_mode": {
    "name": "ipython",
    "version": 3
   },
   "file_extension": ".py",
   "mimetype": "text/x-python",
   "name": "python",
   "nbconvert_exporter": "python",
   "pygments_lexer": "ipython3",
   "version": "3.7.8"
  }
 },
 "nbformat": 4,
 "nbformat_minor": 4
}
